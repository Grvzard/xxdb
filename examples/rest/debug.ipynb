{
 "cells": [
  {
   "cell_type": "code",
   "execution_count": null,
   "id": "db031e31-cb5b-4b61-915c-c6a63cb58cee",
   "metadata": {},
   "outputs": [],
   "source": [
    "import logging\n",
    "logger = logging.getLogger()\n",
    "logger.setLevel(\"DEBUG\")"
   ]
  },
  {
   "cell_type": "code",
   "execution_count": null,
   "id": "862f631b-3f4a-4504-867c-087b8e05194e",
   "metadata": {},
   "outputs": [],
   "source": [
    "import asyncio\n",
    "\n",
    "from xxdb.engine import create\n",
    "from xxdb.rest.server import Server\n",
    "\n",
    "\n",
    "create(\"demo\", datadir=\"data\")\n",
    "\n",
    "server = Server(\"xxdb.toml\")\n",
    "asyncio.create_task(server.serve())\n"
   ]
  },
  {
   "cell_type": "code",
   "execution_count": null,
   "id": "c9056f35-7f81-46fe-a566-319afc26c2f0",
   "metadata": {
    "tags": []
   },
   "outputs": [],
   "source": [
    "from xxdb.rest.client import Client\n",
    "\n",
    "client = Client(\"http://127.0.0.1:7791\")\n",
    "print(\"client ready\")"
   ]
  },
  {
   "cell_type": "code",
   "execution_count": null,
   "id": "c8a1aae0-63b2-4f53-9616-9d101ba69a30",
   "metadata": {
    "tags": []
   },
   "outputs": [],
   "source": [
    "\n",
    "print(await client.put(\"demo\", 123, \"xxxx\"))\n",
    "data = await client.get(\"demo\", 123)\n",
    "print(data)"
   ]
  }
 ],
 "metadata": {
  "kernelspec": {
   "display_name": "Python 3 (ipykernel)",
   "language": "python",
   "name": "python3"
  },
  "language_info": {
   "codemirror_mode": {
    "name": "ipython",
    "version": 3
   },
   "file_extension": ".py",
   "mimetype": "text/x-python",
   "name": "python",
   "nbconvert_exporter": "python",
   "pygments_lexer": "ipython3",
   "version": "3.10.4"
  }
 },
 "nbformat": 4,
 "nbformat_minor": 5
}
